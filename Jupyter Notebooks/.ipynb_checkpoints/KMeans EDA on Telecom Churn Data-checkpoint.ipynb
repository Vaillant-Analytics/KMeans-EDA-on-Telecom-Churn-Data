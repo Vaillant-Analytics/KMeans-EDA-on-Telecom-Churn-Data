{
 "cells": [
  {
   "cell_type": "markdown",
   "metadata": {},
   "source": [
    "# KMeans EDA on Telecom Churn Data"
   ]
  },
  {
   "cell_type": "markdown",
   "metadata": {},
   "source": [
    "By _Alex Vaillant_"
   ]
  },
  {
   "cell_type": "markdown",
   "metadata": {},
   "source": [
    "## Research Question:"
   ]
  },
  {
   "cell_type": "markdown",
   "metadata": {},
   "source": [
    "_\"To what extent can you accurately group customers into clusters based on customer cost, usage, internet service, contract type, and income and explore how many clusters are best?\"_"
   ]
  },
  {
   "cell_type": "markdown",
   "metadata": {},
   "source": [
    "### Show Python Version"
   ]
  },
  {
   "cell_type": "code",
   "execution_count": 1,
   "metadata": {},
   "outputs": [
    {
     "data": {
      "text/plain": [
       "sys.version_info(major=3, minor=8, micro=8, releaselevel='final', serial=0)"
      ]
     },
     "execution_count": 1,
     "metadata": {},
     "output_type": "execute_result"
    }
   ],
   "source": [
    "import sys\n",
    "sys.version_info"
   ]
  },
  {
   "cell_type": "markdown",
   "metadata": {},
   "source": [
    "### Import necessary libraries"
   ]
  },
  {
   "cell_type": "code",
   "execution_count": 2,
   "metadata": {},
   "outputs": [],
   "source": [
    "import pandas as pd\n",
    "from scipy.cluster.vq import kmeans, kmeans2\n",
    "import seaborn as sns\n",
    "from sklearn.preprocessing import MinMaxScaler\n",
    "from numpy import random"
   ]
  },
  {
   "cell_type": "markdown",
   "metadata": {},
   "source": [
    "### Set the random seed to get the same results every run"
   ]
  },
  {
   "cell_type": "code",
   "execution_count": 3,
   "metadata": {},
   "outputs": [],
   "source": [
    "random.seed(1234)"
   ]
  },
  {
   "cell_type": "markdown",
   "metadata": {},
   "source": [
    "### Import the original dataset"
   ]
  },
  {
   "cell_type": "code",
   "execution_count": 4,
   "metadata": {},
   "outputs": [
    {
     "data": {
      "text/html": [
       "<div>\n",
       "<style scoped>\n",
       "    .dataframe tbody tr th:only-of-type {\n",
       "        vertical-align: middle;\n",
       "    }\n",
       "\n",
       "    .dataframe tbody tr th {\n",
       "        vertical-align: top;\n",
       "    }\n",
       "\n",
       "    .dataframe thead th {\n",
       "        text-align: right;\n",
       "    }\n",
       "</style>\n",
       "<table border=\"1\" class=\"dataframe\">\n",
       "  <thead>\n",
       "    <tr style=\"text-align: right;\">\n",
       "      <th></th>\n",
       "      <th>CaseOrder</th>\n",
       "      <th>Customer_id</th>\n",
       "      <th>Interaction</th>\n",
       "      <th>UID</th>\n",
       "      <th>City</th>\n",
       "      <th>State</th>\n",
       "      <th>County</th>\n",
       "      <th>Zip</th>\n",
       "      <th>Lat</th>\n",
       "      <th>Lng</th>\n",
       "      <th>...</th>\n",
       "      <th>MonthlyCharge</th>\n",
       "      <th>Bandwidth_GB_Year</th>\n",
       "      <th>Item1</th>\n",
       "      <th>Item2</th>\n",
       "      <th>Item3</th>\n",
       "      <th>Item4</th>\n",
       "      <th>Item5</th>\n",
       "      <th>Item6</th>\n",
       "      <th>Item7</th>\n",
       "      <th>Item8</th>\n",
       "    </tr>\n",
       "  </thead>\n",
       "  <tbody>\n",
       "    <tr>\n",
       "      <th>0</th>\n",
       "      <td>1</td>\n",
       "      <td>K409198</td>\n",
       "      <td>aa90260b-4141-4a24-8e36-b04ce1f4f77b</td>\n",
       "      <td>e885b299883d4f9fb18e39c75155d990</td>\n",
       "      <td>Point Baker</td>\n",
       "      <td>AK</td>\n",
       "      <td>Prince of Wales-Hyder</td>\n",
       "      <td>99927</td>\n",
       "      <td>56.25100</td>\n",
       "      <td>-133.37571</td>\n",
       "      <td>...</td>\n",
       "      <td>172.455519</td>\n",
       "      <td>904.536110</td>\n",
       "      <td>5</td>\n",
       "      <td>5</td>\n",
       "      <td>5</td>\n",
       "      <td>3</td>\n",
       "      <td>4</td>\n",
       "      <td>4</td>\n",
       "      <td>3</td>\n",
       "      <td>4</td>\n",
       "    </tr>\n",
       "    <tr>\n",
       "      <th>1</th>\n",
       "      <td>2</td>\n",
       "      <td>S120509</td>\n",
       "      <td>fb76459f-c047-4a9d-8af9-e0f7d4ac2524</td>\n",
       "      <td>f2de8bef964785f41a2959829830fb8a</td>\n",
       "      <td>West Branch</td>\n",
       "      <td>MI</td>\n",
       "      <td>Ogemaw</td>\n",
       "      <td>48661</td>\n",
       "      <td>44.32893</td>\n",
       "      <td>-84.24080</td>\n",
       "      <td>...</td>\n",
       "      <td>242.632554</td>\n",
       "      <td>800.982766</td>\n",
       "      <td>3</td>\n",
       "      <td>4</td>\n",
       "      <td>3</td>\n",
       "      <td>3</td>\n",
       "      <td>4</td>\n",
       "      <td>3</td>\n",
       "      <td>4</td>\n",
       "      <td>4</td>\n",
       "    </tr>\n",
       "    <tr>\n",
       "      <th>2</th>\n",
       "      <td>3</td>\n",
       "      <td>K191035</td>\n",
       "      <td>344d114c-3736-4be5-98f7-c72c281e2d35</td>\n",
       "      <td>f1784cfa9f6d92ae816197eb175d3c71</td>\n",
       "      <td>Yamhill</td>\n",
       "      <td>OR</td>\n",
       "      <td>Yamhill</td>\n",
       "      <td>97148</td>\n",
       "      <td>45.35589</td>\n",
       "      <td>-123.24657</td>\n",
       "      <td>...</td>\n",
       "      <td>159.947583</td>\n",
       "      <td>2054.706961</td>\n",
       "      <td>4</td>\n",
       "      <td>4</td>\n",
       "      <td>2</td>\n",
       "      <td>4</td>\n",
       "      <td>4</td>\n",
       "      <td>3</td>\n",
       "      <td>3</td>\n",
       "      <td>3</td>\n",
       "    </tr>\n",
       "    <tr>\n",
       "      <th>3</th>\n",
       "      <td>4</td>\n",
       "      <td>D90850</td>\n",
       "      <td>abfa2b40-2d43-4994-b15a-989b8c79e311</td>\n",
       "      <td>dc8a365077241bb5cd5ccd305136b05e</td>\n",
       "      <td>Del Mar</td>\n",
       "      <td>CA</td>\n",
       "      <td>San Diego</td>\n",
       "      <td>92014</td>\n",
       "      <td>32.96687</td>\n",
       "      <td>-117.24798</td>\n",
       "      <td>...</td>\n",
       "      <td>119.956840</td>\n",
       "      <td>2164.579412</td>\n",
       "      <td>4</td>\n",
       "      <td>4</td>\n",
       "      <td>4</td>\n",
       "      <td>2</td>\n",
       "      <td>5</td>\n",
       "      <td>4</td>\n",
       "      <td>3</td>\n",
       "      <td>3</td>\n",
       "    </tr>\n",
       "    <tr>\n",
       "      <th>4</th>\n",
       "      <td>5</td>\n",
       "      <td>K662701</td>\n",
       "      <td>68a861fd-0d20-4e51-a587-8a90407ee574</td>\n",
       "      <td>aabb64a116e83fdc4befc1fbab1663f9</td>\n",
       "      <td>Needville</td>\n",
       "      <td>TX</td>\n",
       "      <td>Fort Bend</td>\n",
       "      <td>77461</td>\n",
       "      <td>29.38012</td>\n",
       "      <td>-95.80673</td>\n",
       "      <td>...</td>\n",
       "      <td>149.948316</td>\n",
       "      <td>271.493436</td>\n",
       "      <td>4</td>\n",
       "      <td>4</td>\n",
       "      <td>4</td>\n",
       "      <td>3</td>\n",
       "      <td>4</td>\n",
       "      <td>4</td>\n",
       "      <td>4</td>\n",
       "      <td>5</td>\n",
       "    </tr>\n",
       "  </tbody>\n",
       "</table>\n",
       "<p>5 rows × 50 columns</p>\n",
       "</div>"
      ],
      "text/plain": [
       "   CaseOrder Customer_id                           Interaction  \\\n",
       "0          1     K409198  aa90260b-4141-4a24-8e36-b04ce1f4f77b   \n",
       "1          2     S120509  fb76459f-c047-4a9d-8af9-e0f7d4ac2524   \n",
       "2          3     K191035  344d114c-3736-4be5-98f7-c72c281e2d35   \n",
       "3          4      D90850  abfa2b40-2d43-4994-b15a-989b8c79e311   \n",
       "4          5     K662701  68a861fd-0d20-4e51-a587-8a90407ee574   \n",
       "\n",
       "                                UID         City State                 County  \\\n",
       "0  e885b299883d4f9fb18e39c75155d990  Point Baker    AK  Prince of Wales-Hyder   \n",
       "1  f2de8bef964785f41a2959829830fb8a  West Branch    MI                 Ogemaw   \n",
       "2  f1784cfa9f6d92ae816197eb175d3c71      Yamhill    OR                Yamhill   \n",
       "3  dc8a365077241bb5cd5ccd305136b05e      Del Mar    CA              San Diego   \n",
       "4  aabb64a116e83fdc4befc1fbab1663f9    Needville    TX              Fort Bend   \n",
       "\n",
       "     Zip       Lat        Lng  ...  MonthlyCharge Bandwidth_GB_Year Item1  \\\n",
       "0  99927  56.25100 -133.37571  ...     172.455519        904.536110     5   \n",
       "1  48661  44.32893  -84.24080  ...     242.632554        800.982766     3   \n",
       "2  97148  45.35589 -123.24657  ...     159.947583       2054.706961     4   \n",
       "3  92014  32.96687 -117.24798  ...     119.956840       2164.579412     4   \n",
       "4  77461  29.38012  -95.80673  ...     149.948316        271.493436     4   \n",
       "\n",
       "  Item2  Item3  Item4  Item5 Item6 Item7 Item8  \n",
       "0     5      5      3      4     4     3     4  \n",
       "1     4      3      3      4     3     4     4  \n",
       "2     4      2      4      4     3     3     3  \n",
       "3     4      4      2      5     4     3     3  \n",
       "4     4      4      3      4     4     4     5  \n",
       "\n",
       "[5 rows x 50 columns]"
      ]
     },
     "execution_count": 4,
     "metadata": {},
     "output_type": "execute_result"
    }
   ],
   "source": [
    "url = \"C:/Users/tedda/Desktop/Data Science Portfolio/Machine Learning/Unsupervised Learning/Clustering/KMeans EDA on Telecom Churn Data/Raw Datasets/churn_clean.csv\"\n",
    "churn_data = pd.read_csv(url)\n",
    "churn_data.head()"
   ]
  },
  {
   "cell_type": "markdown",
   "metadata": {},
   "source": [
    "### Index the dataset to remove unnecessary columns and split out the Churn column for future analysis"
   ]
  },
  {
   "cell_type": "code",
   "execution_count": 5,
   "metadata": {},
   "outputs": [],
   "source": [
    "churn_indexed = churn_data[['Churn','MonthlyCharge','Bandwidth_GB_Year','Contract','InternetService','Income']] # initial index\n",
    "churn_yes = churn_indexed['Churn'] # split out the Churn column for future analysis\n",
    "my_cols = set(churn_indexed.columns)\n",
    "my_cols.remove('Churn')\n",
    "churn_indexed = churn_indexed[my_cols] # removed all unnecessary columns"
   ]
  },
  {
   "cell_type": "markdown",
   "metadata": {},
   "source": [
    "### Create dummy columns for Categorical Variables by using .get_dummies() from pandas"
   ]
  },
  {
   "cell_type": "code",
   "execution_count": 6,
   "metadata": {},
   "outputs": [],
   "source": [
    "churn_dummy = pd.get_dummies(data = churn_indexed)"
   ]
  },
  {
   "cell_type": "markdown",
   "metadata": {},
   "source": [
    "### Normalize the dataset and create the final dataframe to use for analysis"
   ]
  },
  {
   "cell_type": "code",
   "execution_count": 7,
   "metadata": {},
   "outputs": [],
   "source": [
    "new_cols = set(churn_dummy.columns) # extract the column names\n",
    "scaler = MinMaxScaler() # instantiate the MinMaxScaler() function\n",
    "scaler.fit(churn_dummy) # fit the MinMaxScaler to our data\n",
    "churn_normed = scaler.transform(churn_dummy) # transform our data \n",
    "churn_df = pd.DataFrame(churn_normed, columns = new_cols) # create usable dataframe and add in column names"
   ]
  },
  {
   "cell_type": "markdown",
   "metadata": {},
   "source": [
    "### Describe the output dataset"
   ]
  },
  {
   "cell_type": "code",
   "execution_count": 8,
   "metadata": {},
   "outputs": [
    {
     "data": {
      "text/html": [
       "<div>\n",
       "<style scoped>\n",
       "    .dataframe tbody tr th:only-of-type {\n",
       "        vertical-align: middle;\n",
       "    }\n",
       "\n",
       "    .dataframe tbody tr th {\n",
       "        vertical-align: top;\n",
       "    }\n",
       "\n",
       "    .dataframe thead th {\n",
       "        text-align: right;\n",
       "    }\n",
       "</style>\n",
       "<table border=\"1\" class=\"dataframe\">\n",
       "  <thead>\n",
       "    <tr style=\"text-align: right;\">\n",
       "      <th></th>\n",
       "      <th>InternetService_None</th>\n",
       "      <th>MonthlyCharge</th>\n",
       "      <th>Income</th>\n",
       "      <th>Contract_Month-to-month</th>\n",
       "      <th>Bandwidth_GB_Year</th>\n",
       "      <th>Contract_Two Year</th>\n",
       "      <th>InternetService_DSL</th>\n",
       "      <th>Contract_One year</th>\n",
       "      <th>InternetService_Fiber Optic</th>\n",
       "    </tr>\n",
       "  </thead>\n",
       "  <tbody>\n",
       "    <tr>\n",
       "      <th>count</th>\n",
       "      <td>10000.000000</td>\n",
       "      <td>10000.000000</td>\n",
       "      <td>10000.000000</td>\n",
       "      <td>10000.000000</td>\n",
       "      <td>10000.000000</td>\n",
       "      <td>10000.000000</td>\n",
       "      <td>10000.000000</td>\n",
       "      <td>10000.000000</td>\n",
       "      <td>10000.000000</td>\n",
       "    </tr>\n",
       "    <tr>\n",
       "      <th>mean</th>\n",
       "      <td>0.440790</td>\n",
       "      <td>0.152612</td>\n",
       "      <td>0.462176</td>\n",
       "      <td>0.545600</td>\n",
       "      <td>0.210200</td>\n",
       "      <td>0.244200</td>\n",
       "      <td>0.346300</td>\n",
       "      <td>0.440800</td>\n",
       "      <td>0.212900</td>\n",
       "    </tr>\n",
       "    <tr>\n",
       "      <th>std</th>\n",
       "      <td>0.204314</td>\n",
       "      <td>0.109069</td>\n",
       "      <td>0.312030</td>\n",
       "      <td>0.497941</td>\n",
       "      <td>0.407471</td>\n",
       "      <td>0.429633</td>\n",
       "      <td>0.475814</td>\n",
       "      <td>0.496508</td>\n",
       "      <td>0.409378</td>\n",
       "    </tr>\n",
       "    <tr>\n",
       "      <th>min</th>\n",
       "      <td>0.000000</td>\n",
       "      <td>0.000000</td>\n",
       "      <td>0.000000</td>\n",
       "      <td>0.000000</td>\n",
       "      <td>0.000000</td>\n",
       "      <td>0.000000</td>\n",
       "      <td>0.000000</td>\n",
       "      <td>0.000000</td>\n",
       "      <td>0.000000</td>\n",
       "    </tr>\n",
       "    <tr>\n",
       "      <th>25%</th>\n",
       "      <td>0.285469</td>\n",
       "      <td>0.073007</td>\n",
       "      <td>0.154347</td>\n",
       "      <td>0.000000</td>\n",
       "      <td>0.000000</td>\n",
       "      <td>0.000000</td>\n",
       "      <td>0.000000</td>\n",
       "      <td>0.000000</td>\n",
       "      <td>0.000000</td>\n",
       "    </tr>\n",
       "    <tr>\n",
       "      <th>50%</th>\n",
       "      <td>0.416335</td>\n",
       "      <td>0.126945</td>\n",
       "      <td>0.446069</td>\n",
       "      <td>1.000000</td>\n",
       "      <td>0.000000</td>\n",
       "      <td>0.000000</td>\n",
       "      <td>0.000000</td>\n",
       "      <td>0.000000</td>\n",
       "      <td>0.000000</td>\n",
       "    </tr>\n",
       "    <tr>\n",
       "      <th>75%</th>\n",
       "      <td>0.574531</td>\n",
       "      <td>0.204591</td>\n",
       "      <td>0.775420</td>\n",
       "      <td>1.000000</td>\n",
       "      <td>0.000000</td>\n",
       "      <td>0.000000</td>\n",
       "      <td>1.000000</td>\n",
       "      <td>1.000000</td>\n",
       "      <td>0.000000</td>\n",
       "    </tr>\n",
       "    <tr>\n",
       "      <th>max</th>\n",
       "      <td>1.000000</td>\n",
       "      <td>1.000000</td>\n",
       "      <td>1.000000</td>\n",
       "      <td>1.000000</td>\n",
       "      <td>1.000000</td>\n",
       "      <td>1.000000</td>\n",
       "      <td>1.000000</td>\n",
       "      <td>1.000000</td>\n",
       "      <td>1.000000</td>\n",
       "    </tr>\n",
       "  </tbody>\n",
       "</table>\n",
       "</div>"
      ],
      "text/plain": [
       "       InternetService_None  MonthlyCharge        Income  \\\n",
       "count          10000.000000   10000.000000  10000.000000   \n",
       "mean               0.440790       0.152612      0.462176   \n",
       "std                0.204314       0.109069      0.312030   \n",
       "min                0.000000       0.000000      0.000000   \n",
       "25%                0.285469       0.073007      0.154347   \n",
       "50%                0.416335       0.126945      0.446069   \n",
       "75%                0.574531       0.204591      0.775420   \n",
       "max                1.000000       1.000000      1.000000   \n",
       "\n",
       "       Contract_Month-to-month  Bandwidth_GB_Year  Contract_Two Year  \\\n",
       "count             10000.000000       10000.000000       10000.000000   \n",
       "mean                  0.545600           0.210200           0.244200   \n",
       "std                   0.497941           0.407471           0.429633   \n",
       "min                   0.000000           0.000000           0.000000   \n",
       "25%                   0.000000           0.000000           0.000000   \n",
       "50%                   1.000000           0.000000           0.000000   \n",
       "75%                   1.000000           0.000000           0.000000   \n",
       "max                   1.000000           1.000000           1.000000   \n",
       "\n",
       "       InternetService_DSL  Contract_One year  InternetService_Fiber Optic  \n",
       "count         10000.000000       10000.000000                 10000.000000  \n",
       "mean              0.346300           0.440800                     0.212900  \n",
       "std               0.475814           0.496508                     0.409378  \n",
       "min               0.000000           0.000000                     0.000000  \n",
       "25%               0.000000           0.000000                     0.000000  \n",
       "50%               0.000000           0.000000                     0.000000  \n",
       "75%               1.000000           1.000000                     0.000000  \n",
       "max               1.000000           1.000000                     1.000000  "
      ]
     },
     "execution_count": 8,
     "metadata": {},
     "output_type": "execute_result"
    }
   ],
   "source": [
    "churn_df.describe()"
   ]
  },
  {
   "cell_type": "markdown",
   "metadata": {},
   "source": [
    "### Export the cleaned, usable dataset"
   ]
  },
  {
   "cell_type": "code",
   "execution_count": 9,
   "metadata": {},
   "outputs": [],
   "source": [
    "churn_df.to_csv(\"C:/Users/tedda/Desktop/Data Science Portfolio/Machine Learning/Unsupervised Learning/Clustering/KMeans EDA on Telecom Churn Data/Cleansed Datasets/prepped_data.csv\",index=False,header=True)"
   ]
  },
  {
   "cell_type": "markdown",
   "metadata": {},
   "source": [
    "### Create a For Loop to test different numbers of clusters in the data"
   ]
  },
  {
   "cell_type": "code",
   "execution_count": 10,
   "metadata": {},
   "outputs": [],
   "source": [
    "num_clusters = range(2,7)\n",
    "distortions = []\n",
    "for i in num_clusters:\n",
    "    cluster_centers,distortion = kmeans(churn_df, i)\n",
    "    distortions.append(distortion)"
   ]
  },
  {
   "cell_type": "markdown",
   "metadata": {},
   "source": [
    "### Create a new dataframe to plot the distortion of each number of clusters"
   ]
  },
  {
   "cell_type": "code",
   "execution_count": 11,
   "metadata": {},
   "outputs": [
    {
     "data": {
      "text/plain": [
       "<AxesSubplot:xlabel='num_clusters', ylabel='distortions'>"
      ]
     },
     "execution_count": 11,
     "metadata": {},
     "output_type": "execute_result"
    },
    {
     "data": {
      "image/png": "[encoded data removed]",
      "text/plain": [
       "<Figure size 432x288 with 1 Axes>"
      ]
     },
     "metadata": {
      "needs_background": "light"
     },
     "output_type": "display_data"
    }
   ],
   "source": [
    "elbow_plot = pd.DataFrame({'num_clusters':num_clusters,'distortions':distortions})\n",
    "sns.lineplot(x='num_clusters',y='distortions',data = elbow_plot)"
   ]
  },
  {
   "cell_type": "markdown",
   "metadata": {},
   "source": [
    "### Decided to use k = 4 as there is a VERY slightly, visible elbow there. Use kmeans2 to plot the new cluster and get the labels"
   ]
  },
  {
   "cell_type": "code",
   "execution_count": 12,
   "metadata": {},
   "outputs": [],
   "source": [
    "centroids, labels = kmeans2(churn_df, 4, minit='points')"
   ]
  },
  {
   "cell_type": "markdown",
   "metadata": {},
   "source": [
    "### Add our Churn column and the new labels into our dataframe for further analysis"
   ]
  },
  {
   "cell_type": "code",
   "execution_count": 13,
   "metadata": {},
   "outputs": [],
   "source": [
    "churn_df['Churn']=churn_yes\n",
    "churn_df['labels']=labels"
   ]
  },
  {
   "cell_type": "markdown",
   "metadata": {},
   "source": [
    "### Count the amount in each of our 4 clusters"
   ]
  },
  {
   "cell_type": "code",
   "execution_count": 14,
   "metadata": {},
   "outputs": [
    {
     "data": {
      "text/plain": [
       "1    3316\n",
       "2    3037\n",
       "3    2442\n",
       "0    1205\n",
       "Name: labels, dtype: int64"
      ]
     },
     "execution_count": 14,
     "metadata": {},
     "output_type": "execute_result"
    }
   ],
   "source": [
    "churn_df['labels'].value_counts()"
   ]
  },
  {
   "cell_type": "markdown",
   "metadata": {},
   "source": [
    "### Export the final dataset for further analysis"
   ]
  },
  {
   "cell_type": "code",
   "execution_count": 15,
   "metadata": {},
   "outputs": [],
   "source": [
    "churn_df.to_csv(\"C:/Users/tedda/Desktop/Data Science Portfolio/Machine Learning/Unsupervised Learning/Clustering/KMeans EDA on Telecom Churn Data/Cleansed Datasets/final_dataset_forfutheranalysis.csv\",index=False, header=True)"
   ]
  }
 ],
 "metadata": {
  "kernelspec": {
   "display_name": "Python 3",
   "language": "python",
   "name": "python3"
  },
  "language_info": {
   "codemirror_mode": {
    "name": "ipython",
    "version": 3
   },
   "file_extension": ".py",
   "mimetype": "text/x-python",
   "name": "python",
   "nbconvert_exporter": "python",
   "pygments_lexer": "ipython3",
   "version": "3.8.8"
  }
 },
 "nbformat": 4,
 "nbformat_minor": 4
}
